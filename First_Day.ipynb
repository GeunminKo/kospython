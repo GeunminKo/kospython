{
  "nbformat": 4,
  "nbformat_minor": 0,
  "metadata": {
    "colab": {
      "name": "First Day.ipynb",
      "provenance": [],
      "collapsed_sections": [],
      "authorship_tag": "ABX9TyOIJI2UpdKlxiSlEylI5HFu",
      "include_colab_link": true
    },
    "kernelspec": {
      "name": "python3",
      "display_name": "Python 3"
    },
    "language_info": {
      "name": "python"
    }
  },
  "cells": [
    {
      "cell_type": "markdown",
      "metadata": {
        "id": "view-in-github",
        "colab_type": "text"
      },
      "source": [
        "<a href=\"https://colab.research.google.com/github/GeunminKo/kospython/blob/main/First_Day.ipynb\" target=\"_parent\"><img src=\"https://colab.research.google.com/assets/colab-badge.svg\" alt=\"Open In Colab\"/></a>"
      ]
    },
    {
      "cell_type": "code",
      "source": [
        "hour = 24\n",
        "day = 7\n",
        "a = \"There are %d hours a day and %s days a week.\" % (hour, day)\n",
        "print(a)"
      ],
      "metadata": {
        "colab": {
          "base_uri": "https://localhost:8080/"
        },
        "id": "J2PGQQXl9htt",
        "outputId": "bc978496-c551-4a88-fc6e-ca2f6433a243"
      },
      "execution_count": null,
      "outputs": [
        {
          "output_type": "stream",
          "name": "stdout",
          "text": [
            "There are 24 hours a day and 7 days a week.\n"
          ]
        }
      ]
    },
    {
      "cell_type": "code",
      "execution_count": null,
      "metadata": {
        "colab": {
          "base_uri": "https://localhost:8080/"
        },
        "id": "O35FHbKs9gIu",
        "outputId": "71362cb0-4561-4dc9-9899-bc0a9efdc2e2"
      },
      "outputs": [
        {
          "output_type": "stream",
          "name": "stdout",
          "text": [
            "there are 24 hours a day and 7 days a week.\n"
          ]
        }
      ],
      "source": [
        "hour = 24\n",
        "day = 7\n",
        "a = f'there are {hour} hours a day and {day} days a week.'\n",
        "print(a)"
      ]
    },
    {
      "cell_type": "code",
      "source": [
        "a = 'My name is {name}.'.format(name='siri')\n",
        "print(a)"
      ],
      "metadata": {
        "colab": {
          "base_uri": "https://localhost:8080/"
        },
        "id": "y_-QzwDH9wik",
        "outputId": "4a849ade-86fc-4119-8aa6-bef68b306a7f"
      },
      "execution_count": null,
      "outputs": [
        {
          "output_type": "stream",
          "name": "stdout",
          "text": [
            "My name is siri.\n"
          ]
        }
      ]
    },
    {
      "cell_type": "code",
      "source": [
        "a = '%f' % 3.141592\n",
        "print(a)"
      ],
      "metadata": {
        "colab": {
          "base_uri": "https://localhost:8080/"
        },
        "id": "gsB65TYS9-NI",
        "outputId": "aa28f49d-8e47-486e-e513-eb7db09bc46b"
      },
      "execution_count": null,
      "outputs": [
        {
          "output_type": "stream",
          "name": "stdout",
          "text": [
            "3.141592\n"
          ]
        }
      ]
    },
    {
      "cell_type": "code",
      "source": [
        "a = '%0.2f' % 3.141592\n",
        "print(a)"
      ],
      "metadata": {
        "colab": {
          "base_uri": "https://localhost:8080/"
        },
        "id": "TpNKZi5H-aDK",
        "outputId": "de76454b-41fe-4a77-856a-5f703d6e4c09"
      },
      "execution_count": null,
      "outputs": [
        {
          "output_type": "stream",
          "name": "stdout",
          "text": [
            "3.14\n"
          ]
        }
      ]
    },
    {
      "cell_type": "code",
      "source": [
        "a = 'Liverpool'\n",
        "print(a.count('o'))"
      ],
      "metadata": {
        "colab": {
          "base_uri": "https://localhost:8080/"
        },
        "id": "X6GOHWfD-my-",
        "outputId": "b153ba69-0259-4e4a-91f5-7d00254ec7f4"
      },
      "execution_count": null,
      "outputs": [
        {
          "output_type": "stream",
          "name": "stdout",
          "text": [
            "2\n"
          ]
        }
      ]
    },
    {
      "cell_type": "code",
      "source": [
        "a = 'Liverpool'\n",
        "print(a.find('L'))"
      ],
      "metadata": {
        "colab": {
          "base_uri": "https://localhost:8080/"
        },
        "id": "Vw35nzj3_Akt",
        "outputId": "da285b44-1312-4124-e165-23cc2161f264"
      },
      "execution_count": null,
      "outputs": [
        {
          "output_type": "stream",
          "name": "stdout",
          "text": [
            "0\n"
          ]
        }
      ]
    },
    {
      "cell_type": "markdown",
      "source": [
        ""
      ],
      "metadata": {
        "id": "OJsDpNmwczl1"
      }
    },
    {
      "cell_type": "code",
      "source": [
        "a = 'Liverpool'\n",
        "print(a.find('T'))"
      ],
      "metadata": {
        "colab": {
          "base_uri": "https://localhost:8080/"
        },
        "id": "khYyFMOQ_f_q",
        "outputId": "7a3eae59-8adc-4397-a0d1-ffd9fbcbf59a"
      },
      "execution_count": null,
      "outputs": [
        {
          "output_type": "stream",
          "name": "stdout",
          "text": [
            "-1\n"
          ]
        }
      ]
    },
    {
      "cell_type": "code",
      "source": [
        "a = '!'.join('Liverpool')\n",
        "print(a)"
      ],
      "metadata": {
        "colab": {
          "base_uri": "https://localhost:8080/"
        },
        "id": "wf8sjAvl_rPN",
        "outputId": "4f448f45-a51e-4077-82f9-4a4394422b49"
      },
      "execution_count": null,
      "outputs": [
        {
          "output_type": "stream",
          "name": "stdout",
          "text": [
            "L!i!v!e!r!p!o!o!l\n"
          ]
        }
      ]
    }
  ]
}